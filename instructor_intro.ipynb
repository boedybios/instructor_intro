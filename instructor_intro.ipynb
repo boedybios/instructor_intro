{
 "cells": [
  {
   "cell_type": "markdown",
   "metadata": {},
   "source": [
    "# Introduction to Structure Prompting using Instructor"
   ]
  },
  {
   "cell_type": "markdown",
   "metadata": {},
   "source": [
    "## What is Instructor?"
   ]
  },
  {
   "cell_type": "markdown",
   "metadata": {},
   "source": [
    "Instructor is a Python library that helps you get structured, predictable data from language models like GPT-4 and Claude. <br/>\n",
    "It's like giving the LLM a form to fill out instead of letting it respond however it wants.\n",
    "\n",
    "Without Instructor, getting structured data from LLMs can be challenging:\n",
    "- Unpredictable outputs: LLMs might format responses differently each time\n",
    "- Format errors: Getting JSON or specific data structures can be error-prone\n",
    "- Validation headaches: Checking if the response matches what you need\n",
    "\n",
    "Instructor solves these problems by:\n",
    "- Defining exactly what data you want using Python classes\n",
    "- Making sure the LLM returns data in that structure\n",
    "- Validating the output and automatically fixing issues"
   ]
  },
  {
   "cell_type": "markdown",
   "metadata": {},
   "source": [
    "## Preparation"
   ]
  },
  {
   "cell_type": "markdown",
   "metadata": {},
   "source": [
    "### Install Dependencies"
   ]
  },
  {
   "cell_type": "code",
   "execution_count": 1,
   "metadata": {},
   "outputs": [],
   "source": [
    "# !pip install requirements.txt"
   ]
  },
  {
   "cell_type": "markdown",
   "metadata": {},
   "source": [
    "### Connect to the LLM with Instructor"
   ]
  },
  {
   "cell_type": "code",
   "execution_count": 2,
   "metadata": {},
   "outputs": [],
   "source": [
    "from dotenv import load_dotenv\n",
    "from openai import OpenAI, AzureOpenAI\n",
    "import instructor\n",
    "\n",
    "load_dotenv()\n",
    "\n",
    "# client = instructor.from_openai(OpenAI())\n",
    "client = instructor.from_openai(AzureOpenAI())"
   ]
  },
  {
   "cell_type": "markdown",
   "metadata": {},
   "source": [
    "## Case Study: Simple extraction from a text"
   ]
  },
  {
   "cell_type": "code",
   "execution_count": 3,
   "metadata": {},
   "outputs": [],
   "source": [
    "text = \"\"\"John is a 30 years old software engineer. \n",
    "He was born in Cicago and currently resides in New York.\n",
    "He has houses at 123 Main St, Springfield, IL 62704 and 456 Oak Ave, Chicago, IL 60601.\"\"\""
   ]
  },
  {
   "cell_type": "markdown",
   "metadata": {},
   "source": [
    "### Define the expected response structure"
   ]
  },
  {
   "cell_type": "code",
   "execution_count": 4,
   "metadata": {},
   "outputs": [],
   "source": [
    "from pydantic import BaseModel, Field\n",
    "\n",
    "\n",
    "class Person(BaseModel):\n",
    "    name: str\n",
    "    age: int = Field(description=\"The user's age in years\", gt=0, lt=120)\n",
    "    city: str = Field(description=\"The city where the user lives\")\n",
    "    occupation: str"
   ]
  },
  {
   "cell_type": "markdown",
   "metadata": {},
   "source": [
    "### Prepare the prompt"
   ]
  },
  {
   "cell_type": "code",
   "execution_count": 5,
   "metadata": {},
   "outputs": [],
   "source": [
    "system_prompt = \"You are a personal data extraction engine which capable to extract several personal details from a given text.\"\n",
    "user_prompt = f\"Extract a person from: {text}\""
   ]
  },
  {
   "cell_type": "markdown",
   "metadata": {},
   "source": [
    "### Extract structured output"
   ]
  },
  {
   "cell_type": "code",
   "execution_count": 6,
   "metadata": {},
   "outputs": [],
   "source": [
    "person = client.chat.completions.create(\n",
    "    model=\"gpt-4o-mini\",\n",
    "    response_model=Person,\n",
    "    temperature=0.0,\n",
    "    max_retries=5,\n",
    "    stream=False,\n",
    "    messages=[\n",
    "        {\n",
    "            \"role\": \"system\",\n",
    "            \"content\": system_prompt,\n",
    "        },\n",
    "        {\n",
    "            \"role\": \"user\",\n",
    "            \"content\": user_prompt,\n",
    "        },\n",
    "    ],\n",
    ")"
   ]
  },
  {
   "cell_type": "code",
   "execution_count": 7,
   "metadata": {},
   "outputs": [
    {
     "name": "stdout",
     "output_type": "stream",
     "text": [
      "Name: John\n",
      "Age: 30\n",
      "City: New York\n",
      "Occupation: software engineer\n"
     ]
    }
   ],
   "source": [
    "print(f\"Name: {person.name}\")\n",
    "print(f\"Age: {person.age}\")\n",
    "print(f\"City: {person.city}\")\n",
    "print(f\"Occupation: {person.occupation}\")"
   ]
  },
  {
   "cell_type": "markdown",
   "metadata": {},
   "source": [
    "### Let's wrap it as a proper function"
   ]
  },
  {
   "cell_type": "code",
   "execution_count": 8,
   "metadata": {},
   "outputs": [],
   "source": [
    "def extract_person_data(text: str) -> Person:\n",
    "    system_prompt = \"You are a personal data extraction engine which capable to extract several personal details from a given text.\"\n",
    "    user_prompt = f\"Extract a person from: {text}\"\n",
    "\n",
    "    return client.chat.completions.create(\n",
    "        model=\"gpt-4o-mini\",\n",
    "        response_model=Person,\n",
    "        temperature=0.0,\n",
    "        max_retries=5,\n",
    "        stream=False,\n",
    "        messages=[\n",
    "            {\n",
    "                \"role\": \"system\",\n",
    "                \"content\": system_prompt,\n",
    "            },\n",
    "            {\n",
    "                \"role\": \"user\",\n",
    "                \"content\": user_prompt,\n",
    "            },\n",
    "        ],\n",
    "    )"
   ]
  },
  {
   "cell_type": "code",
   "execution_count": 9,
   "metadata": {},
   "outputs": [
    {
     "name": "stdout",
     "output_type": "stream",
     "text": [
      "Name: John\n",
      "Age: 30\n",
      "City: New York\n",
      "Occupation: software engineer\n"
     ]
    }
   ],
   "source": [
    "person = extract_person_data(text)\n",
    "\n",
    "print(f\"Name: {person.name}\")\n",
    "print(f\"Age: {person.age}\")\n",
    "print(f\"City: {person.city}\")\n",
    "print(f\"Occupation: {person.occupation}\")"
   ]
  },
  {
   "cell_type": "markdown",
   "metadata": {},
   "source": [
    "## Case Study: A more complex extraction from a text"
   ]
  },
  {
   "cell_type": "markdown",
   "metadata": {},
   "source": [
    "### Define a more complex response structure"
   ]
  },
  {
   "cell_type": "code",
   "execution_count": 10,
   "metadata": {},
   "outputs": [],
   "source": [
    "from pydantic import BaseModel, Field\n",
    "\n",
    "\n",
    "class Address(BaseModel):\n",
    "    street: str\n",
    "    city: str\n",
    "    state: str\n",
    "    zip_code: str\n",
    "\n",
    "\n",
    "class Person(BaseModel):\n",
    "    name: str\n",
    "    age: int = Field(description=\"The user's age in years\", gt=0, lt=120)\n",
    "    city: str = Field(description=\"The city where the user lives\")\n",
    "    occupation: str\n",
    "    addresses: list[Address] = Field(description=\"The addresses of the user\")"
   ]
  },
  {
   "cell_type": "markdown",
   "metadata": {},
   "source": [
    "### No changes required in both the prompt and the extraction function"
   ]
  },
  {
   "cell_type": "code",
   "execution_count": 11,
   "metadata": {},
   "outputs": [],
   "source": [
    "person = extract_person_data(text)"
   ]
  },
  {
   "cell_type": "markdown",
   "metadata": {},
   "source": [
    "### New structured output"
   ]
  },
  {
   "cell_type": "code",
   "execution_count": 12,
   "metadata": {},
   "outputs": [
    {
     "name": "stdout",
     "output_type": "stream",
     "text": [
      "Name: John\n",
      "Age: 30\n",
      "City: New York\n",
      "Occupation: software engineer\n",
      "Addresses: [Address(street='123 Main St', city='Springfield', state='IL', zip_code='62704'), Address(street='456 Oak Ave', city='Chicago', state='IL', zip_code='60601')]\n"
     ]
    }
   ],
   "source": [
    "print(f\"Name: {person.name}\")\n",
    "print(f\"Age: {person.age}\")\n",
    "print(f\"City: {person.city}\")\n",
    "print(f\"Occupation: {person.occupation}\")\n",
    "print(f\"Addresses: {person.addresses}\")"
   ]
  },
  {
   "cell_type": "code",
   "execution_count": 13,
   "metadata": {},
   "outputs": [
    {
     "name": "stdout",
     "output_type": "stream",
     "text": [
      "Address:\n",
      "    \t Street: 123 Main St\n",
      "    \t City: Springfield\n",
      "    \t State: IL\n",
      "    \t ZIP Code: 62704\n",
      "Address:\n",
      "    \t Street: 456 Oak Ave\n",
      "    \t City: Chicago\n",
      "    \t State: IL\n",
      "    \t ZIP Code: 60601\n"
     ]
    }
   ],
   "source": [
    "for address in person.addresses:\n",
    "    print(\n",
    "        f\"\"\"Address:\n",
    "    \\t Street: {address.street}\n",
    "    \\t City: {address.city}\n",
    "    \\t State: {address.state}\n",
    "    \\t ZIP Code: {address.zip_code}\"\"\"\n",
    "    )"
   ]
  },
  {
   "cell_type": "markdown",
   "metadata": {},
   "source": [
    "## Case Study: URL extraction from a markdown document"
   ]
  },
  {
   "cell_type": "markdown",
   "metadata": {},
   "source": [
    "### Define the response structure"
   ]
  },
  {
   "cell_type": "code",
   "execution_count": 14,
   "metadata": {},
   "outputs": [],
   "source": [
    "from pydantic import BaseModel, Field, HttpUrl\n",
    "\n",
    "\n",
    "class ExtractedURL(BaseModel):\n",
    "    url: list[HttpUrl] = Field(\n",
    "        description=\"List of extracted URLs from a given document\"\n",
    "    )"
   ]
  },
  {
   "cell_type": "markdown",
   "metadata": {},
   "source": [
    "### Prepare the extraction function"
   ]
  },
  {
   "cell_type": "code",
   "execution_count": 15,
   "metadata": {},
   "outputs": [],
   "source": [
    "def get_url(input_document: str) -> ExtractedURL:\n",
    "    system_prompt = \"You are a URL extraction engine.\"\n",
    "    user_prompt = f\"Extract list of URLs from this document: {input_document}\"\n",
    "\n",
    "    return client.chat.completions.create(\n",
    "        model=\"gpt-4o-mini\",\n",
    "        response_model=ExtractedURL,\n",
    "        temperature=0.0,\n",
    "        max_retries=5,\n",
    "        stream=False,\n",
    "        messages=[\n",
    "            {\n",
    "                \"role\": \"system\",\n",
    "                \"content\": system_prompt,\n",
    "            },\n",
    "            {\n",
    "                \"role\": \"user\",\n",
    "                \"content\": user_prompt,\n",
    "            },\n",
    "        ],\n",
    "    )"
   ]
  },
  {
   "cell_type": "markdown",
   "metadata": {},
   "source": [
    "### Run the extraction"
   ]
  },
  {
   "cell_type": "code",
   "execution_count": 16,
   "metadata": {},
   "outputs": [],
   "source": [
    "with open(\"document.md\", \"r\") as file:\n",
    "    input_document = file.read()\n",
    "\n",
    "extracted_url = get_url(input_document)"
   ]
  },
  {
   "cell_type": "markdown",
   "metadata": {},
   "source": [
    "### The structured output"
   ]
  },
  {
   "cell_type": "code",
   "execution_count": 17,
   "metadata": {},
   "outputs": [
    {
     "name": "stdout",
     "output_type": "stream",
     "text": [
      "https://ai.google/research\n",
      "https://azure.microsoft.com/\n",
      "https://twitter.com/technews\n",
      "https://linkedin.com/tech\n",
      "https://instagram.com/techtrends\n",
      "https://github.com/\n",
      "https://www.codecademy.com/\n",
      "https://stackoverflow.com/\n",
      "https://techconference2024.com/\n",
      "https://aisummit.global/\n",
      "https://webdevconf.org/\n",
      "https://techportal.com/\n",
      "https://twitter.com/techportal\n"
     ]
    }
   ],
   "source": [
    "for url in extracted_url.url:\n",
    "    print(url)"
   ]
  },
  {
   "cell_type": "markdown",
   "metadata": {},
   "source": [
    "## Case Study: Single Label Classification"
   ]
  },
  {
   "cell_type": "markdown",
   "metadata": {},
   "source": [
    "### Define the response structure"
   ]
  },
  {
   "cell_type": "code",
   "execution_count": 18,
   "metadata": {},
   "outputs": [],
   "source": [
    "from pydantic import BaseModel, Field\n",
    "from typing import Literal\n",
    "\n",
    "\n",
    "class ClassificationResponse(BaseModel):\n",
    "    \"\"\"\n",
    "    A few-shot example of text classification:\n",
    "\n",
    "    Examples:\n",
    "    - \"Buy cheap watches now!\": SPAM\n",
    "    - \"Meeting at 3 PM in the conference room\": NOT_SPAM\n",
    "    - \"You've won a free iPhone! Click here\": SPAM\n",
    "    - \"Can you pick up some milk on your way home?\": NOT_SPAM\n",
    "    - \"Increase your followers by 10000 overnight!\": SPAM\n",
    "    \"\"\"\n",
    "\n",
    "    chain_of_thought: str = Field(\n",
    "        description=\"The chain of thought that led to the prediction.\",\n",
    "    )\n",
    "    label: Literal[\"SPAM\", \"NOT_SPAM\"] = Field(\n",
    "        description=\"The predicted class label.\",\n",
    "    )"
   ]
  },
  {
   "cell_type": "markdown",
   "metadata": {},
   "source": [
    "### Prepare the classification function"
   ]
  },
  {
   "cell_type": "code",
   "execution_count": 19,
   "metadata": {},
   "outputs": [],
   "source": [
    "def classify(input_text: str) -> ClassificationResponse:\n",
    "    system_prompt = \"You are a text classification engine which capable to classify a given text as SPAM or NOT_SPAM\"\n",
    "    user_prompt = f\"Classify the following text: <text>{input_text}</text>\"\n",
    "\n",
    "    return client.chat.completions.create(\n",
    "        model=\"gpt-4o-mini\",\n",
    "        response_model=ClassificationResponse,\n",
    "        temperature=0.0,\n",
    "        max_retries=5,\n",
    "        stream=False,\n",
    "        messages=[\n",
    "            {\n",
    "                \"role\": \"system\",\n",
    "                \"content\": system_prompt,\n",
    "            },\n",
    "            {\n",
    "                \"role\": \"user\",\n",
    "                \"content\": user_prompt,\n",
    "            },\n",
    "        ],\n",
    "    )"
   ]
  },
  {
   "cell_type": "markdown",
   "metadata": {},
   "source": [
    "### Run the classification"
   ]
  },
  {
   "cell_type": "code",
   "execution_count": 20,
   "metadata": {},
   "outputs": [
    {
     "name": "stdout",
     "output_type": "stream",
     "text": [
      "Text: Hey Jason! You're awesome, Predicted Label: NOT_SPAM\n",
      "Chain of thought: The text is a friendly message expressing appreciation towards someone named Jason. It does not contain any promotional content, misleading information, or requests for personal information, which are common characteristics of spam. Therefore, it is classified as NOT_SPAM.\n",
      "========================================================================================================================\n",
      "Text: I am a nigerian prince and I need your help., Predicted Label: SPAM\n",
      "Chain of thought: The text claims to be from a 'Nigerian prince' seeking help, which is a common trope in spam messages that attempt to solicit money or personal information from the recipient. This type of message is often associated with scams, making it highly likely to be classified as SPAM.\n",
      "========================================================================================================================\n"
     ]
    }
   ],
   "source": [
    "for text in [\n",
    "    \"Hey Jason! You're awesome\",\n",
    "    \"I am a nigerian prince and I need your help.\",\n",
    "]:\n",
    "    prediction = classify(text)\n",
    "    print(f\"Text: {text}, Predicted Label: {prediction.label}\")\n",
    "    print(f\"Chain of thought: {prediction.chain_of_thought}\")\n",
    "    print(\"=\" * 120)"
   ]
  },
  {
   "cell_type": "markdown",
   "metadata": {},
   "source": [
    "## Case Study: Multi Label Classification"
   ]
  },
  {
   "cell_type": "markdown",
   "metadata": {},
   "source": [
    "### Define the response structure"
   ]
  },
  {
   "cell_type": "code",
   "execution_count": 21,
   "metadata": {},
   "outputs": [],
   "source": [
    "from typing import List\n",
    "from pydantic import BaseModel, Field\n",
    "from typing import Literal\n",
    "\n",
    "\n",
    "class MultiClassPrediction(BaseModel):\n",
    "    \"\"\"\n",
    "    Class for a multi-class label prediction.\n",
    "\n",
    "    Examples:\n",
    "    - \"My account is locked\": [\"TECH_ISSUE\"]\n",
    "    - \"I can't access my billing info\": [\"TECH_ISSUE\", \"BILLING\"]\n",
    "    - \"When do you close for holidays?\": [\"GENERAL_QUERY\"]\n",
    "    - \"My payment didn't go through and now I can't log in\": [\"BILLING\", \"TECH_ISSUE\"]\n",
    "    \"\"\"\n",
    "\n",
    "    chain_of_thought: str = Field(\n",
    "        description=\"The chain of thought that led to the prediction.\",\n",
    "    )\n",
    "\n",
    "    class_labels: List[Literal[\"TECH_ISSUE\", \"BILLING\", \"GENERAL_QUERY\"]] = Field(\n",
    "        description=\"The predicted class labels for the support ticket.\",\n",
    "    )"
   ]
  },
  {
   "cell_type": "markdown",
   "metadata": {},
   "source": [
    "### Prepare the classification function"
   ]
  },
  {
   "cell_type": "code",
   "execution_count": 22,
   "metadata": {},
   "outputs": [],
   "source": [
    "def multi_classify(input_text: str) -> MultiClassPrediction:\n",
    "    user_prompt = (\n",
    "        f\"Classify the following support ticket: <ticket>{input_text}</ticket>\"\n",
    "    )\n",
    "\n",
    "    return client.chat.completions.create(\n",
    "        model=\"gpt-4o-mini\",\n",
    "        response_model=MultiClassPrediction,\n",
    "        temperature=0.0,\n",
    "        max_retries=5,\n",
    "        stream=False,\n",
    "        messages=[\n",
    "            {\n",
    "                \"role\": \"user\",\n",
    "                \"content\": user_prompt,\n",
    "            },\n",
    "        ],\n",
    "    )"
   ]
  },
  {
   "cell_type": "markdown",
   "metadata": {},
   "source": [
    "### Run the classification"
   ]
  },
  {
   "cell_type": "code",
   "execution_count": 23,
   "metadata": {},
   "outputs": [
    {
     "name": "stdout",
     "output_type": "stream",
     "text": [
      "Ticket: My account is locked and I can't access my billing info.\n",
      "Predicted Labels: ['TECH_ISSUE', 'BILLING']\n",
      "Chain of thought: The user mentions that their account is locked, which indicates a technical issue. Additionally, they state that they cannot access their billing information, which relates to billing concerns. Therefore, the ticket involves both a technical issue and a billing issue.\n"
     ]
    }
   ],
   "source": [
    "ticket = \"My account is locked and I can't access my billing info.\"\n",
    "prediction = multi_classify(ticket)\n",
    "\n",
    "print(f\"Ticket: {ticket}\")\n",
    "print(f\"Predicted Labels: {prediction.class_labels}\")\n",
    "print(f\"Chain of thought: {prediction.chain_of_thought}\")"
   ]
  },
  {
   "cell_type": "markdown",
   "metadata": {},
   "source": [
    "## Case Study: Document Segmentation"
   ]
  },
  {
   "cell_type": "markdown",
   "metadata": {},
   "source": [
    "### Prepare the document"
   ]
  },
  {
   "cell_type": "code",
   "execution_count": 24,
   "metadata": {},
   "outputs": [
    {
     "data": {
      "text/plain": [
       "\"Understanding Reasoning LLMs\\nMethods and Strategies for Building and Refining Reasoning Models\\nIn this article, I will describe the four main approaches to building reasoning models, or how we can enhance LLMs with reasoning capabilities. I hope this provides valuable insights and helps you navigate the rapidly evolving literature and hype surrounding this topic.\\nIn 2024, the LLM field saw increasing specialization. Beyond pre-training and fine-tuning, we witnessed the rise of specialized applications, from RAGs to code assistants. I expect this trend to accelerate in 2025, with an even greater emphasis on domain- and application-specific optimizations (i.e., “specializations”).\\nThe development of reasoning models is one of these specializations. This means we refine LLMs to excel at complex tasks that are best solved with intermediate steps, such as puzzles, advanced math, and coding challenges. However, this specialization does not replace other LLM applications. Because transforming an LLM into a reasoning model also introduces certain drawbacks, which I will discuss later.\\nTo give you a brief glimpse of what’s covered below, in this article, I will:\\n- How do we define “reasoning model”?\\n- When should we use reasoning models?\\n- A brief look at the DeepSeek training pipeline\\n- The 4 main ways to build and improve reasoning models\\n- Thoughts about DeepSeek R1\\n- Developing reasoning models on a limited budget\\nI hope you find this article useful as AI continues its rapid development this year!\\nHow do we define “reasoning model”?\\nIf you work in AI (or machine learning in general), you are probably familiar with vague and hotly debated definitions. The term “reasoning models” is no exception. Eventually, someone will define it formally in a paper, only for it to be redefined in the next, and so on.\\nIn this article, I define “reasoning” as the process of answering questions that require complex, multi-step generation with intermediate steps. For example, factual question-answering like “What is the capital of France?” does not involve reasoning. In contrast, a question like “If a train is moving at 60 mph and travels for 3 hours, how far does it go?” requires some simple reasoning. For instance, it requires recognizing the relationship between distance, speed, and time before arriving at the answer.\\nMost modern LLMs are capable of basic reasoning and can answer questions like, “If a train is moving at 60 mph and travels for 3 hours, how far does it go?” So, today, when we refer to reasoning models, we typically mean LLMs that excel at more complex reasoning tasks, such as solving puzzles, riddles, and mathematical proofs.\\nAdditionally, most LLMs branded as reasoning models today include a “thought” or “thinking” process as part of their response. Whether and how an LLM actually “thinks” is a separate discussion.\\nIntermediate steps in reasoning models can appear in two ways. First, they may be explicitly included in the response, as shown in the previous figure. Second, some reasoning LLMs, such as OpenAI’s o1, run multiple iterations with intermediate steps that are not shown to the user.\\nWhen should we use reasoning models?\\nNow that we have defined reasoning models, we can move on to the more interesting part: how to build and improve LLMs for reasoning tasks. However, before diving into the technical details, it is important to consider when reasoning models are actually needed.\\nWhen do we need a reasoning model? Reasoning models are designed to be good at complex tasks such as solving puzzles, advanced math problems, and challenging coding tasks. However, they are not necessary for simpler tasks like summarization, translation, or knowledge-based question answering. In fact, using reasoning models for everything can be inefficient and expensive. For instance, reasoning models are typically more expensive to use, more verbose, and sometimes more prone to errors due to “overthinking.” Also here the simple rule applies: Use the right tool (or type of LLM) for the task.\\nThe key strengths and limitations of reasoning models are summarized in the figure below.\\nA brief look at the DeepSeek training pipeline\\nBefore discussing four main approaches to building and improving reasoning models in the next section, I want to briefly outline the DeepSeek R1 pipeline, as described in the DeepSeek R1 technical report. This report serves as both an interesting case study and a blueprint for developing reasoning LLMs.\\nNote that DeepSeek did not release a single R1 reasoning model but instead introduced three distinct variants: DeepSeek-R1-Zero, DeepSeek-R1, and DeepSeek-R1-Distill.\\nBased on the descriptions in the technical report, I have summarized the development process of these models in the diagram below.\\nNext, let’s briefly go over the process shown in the diagram above. More details will be covered in the next section, where we discuss the four main approaches to building and improving reasoning models.\\n(1) DeepSeek-R1-Zero: This model is based on the 671B pre-trained DeepSeek-V3 base model released in December 2024. The research team trained it using reinforcement learning (RL) with two types of rewards. This approach is referred to as “cold start” training because it did not include a supervised fine-tuning (SFT) step, which is typically part of reinforcement learning with human feedback (RLHF).\\n(2) DeepSeek-R1: This is DeepSeek’s flagship reasoning model, built upon DeepSeek-R1-Zero. The team further refined it with additional SFT stages and further RL training, improving upon the “cold-started” R1-Zero model.\\n(3) DeepSeek-R1-Distill*: Using the SFT data generated in the previous steps, the DeepSeek team fine-tuned Qwen and Llama models to enhance their reasoning abilities. While not distillation in the traditional sense, this process involved training smaller models (Llama 8B and 70B, and Qwen 1.5B–30B) on outputs from the larger DeepSeek-R1 671B model.\\nThe 4 main ways to build and improve reasoning models\\nIn this section, I will outline the key techniques currently used to enhance the reasoning capabilities of LLMs and to build specialized reasoning models such as DeepSeek-R1, OpenAI’s o1 & o3, and others.\\nNote: The exact workings of o1 and o3 remain unknown outside of OpenAI. However, they are rumored to leverage a combination of both inference and training techniques.\\n1) Inference-time scaling\\nOne way to improve an LLM’s reasoning capabilities (or any capability in general) is inference-time scaling. This term can have multiple meanings, but in this context, it refers to increasing computational resources during inference to improve output quality.\\nA rough analogy is how humans tend to generate better responses when given more time to think through complex problems. Similarly, we can apply techniques that encourage the LLM to “think” more while generating an answer. (Although, whether LLMs actually “think” is a different discussion.)\\nOne straightforward approach to inference-time scaling is clever prompt engineering. A classic example is chain-of-thought (CoT) prompting, where phrases like “think step by step” are included in the input prompt. This encourages the model to generate intermediate reasoning steps rather than jumping directly to the final answer, which can often (but not always) lead to more accurate results on more complex problems. (Note that it doesn’t make sense to employ this strategy for simpler knowledge-based questions, like “What is the capital of France”, which is again a good rule of thumb to find out whether a reasoning model makes sense on your given input query.)\\nThe aforementioned CoT approach can be seen as inference-time scaling because it makes inference more expensive through generating more output tokens.\\nAnother approach to inference-time scaling is the use of voting and search strategies. One simple example is majority voting where we have the LLM generate multiple answers, and we select the correct answer by majority vote. Similarly, we can use beam search and other search algorithms to generate better responses.\\nI highly recommend the Scaling LLM Test-Time Compute Optimally can be More Effective than Scaling Model Parameters paper that I described in my previous Noteworthy AI Research Papers of 2024 (Part Two) article (https://magazine.sebastianraschka.com/p/ai-research-papers-2024-part-2) for more details on these different strategies.\\nThe DeepSeek R1 technical report categorizes common inference-time scaling methods (such as Process Reward Model-based and Monte Carlo Tree Search-based approaches) under “unsuccessful attempts.” This suggests that DeepSeek did not explicitly use these techniques beyond the R1 model’s natural tendency to generate longer responses, which serves as an implicit form of inference-time scaling compared to the V3 base model.\\nHowever, explicit inference-time scaling is often implemented at the application layer rather than within the LLM itself, so DeepSeek may still apply such techniques within their app.\\nI suspect that OpenAI’s o1 and o3 models use inference-time scaling, which would explain why they are relatively expensive compared to models like GPT-4o. In addition to inference-time scaling, o1 and o3 were likely trained using RL pipelines similar to those used for DeepSeek R1. More on reinforcement learning in the next two sections below.\\n2) Pure reinforcement learning (RL)\\nOne of my personal highlights from the DeepSeek R1 paper is their discovery that reasoning emerges as a behavior from pure reinforcement learning (RL). Let’s explore what this means in more detail.\\nAs outlined earlier, DeepSeek developed three types of R1 models. The first, DeepSeek-R1-Zero, was built on top of the DeepSeek-V3 base model, a standard pre-trained LLM they released in December 2024. Unlike typical RL pipelines, where supervised fine-tuning (SFT) is applied before RL, DeepSeek-R1-Zero was trained exclusively with reinforcement learning without an initial SFT stage as highlighted in the diagram below.\\nStill, this RL process is similar to the commonly used RLHF approach, which is typically applied to preference-tune LLMs. (I covered RLHF in more detail in my article, LLM Training: RLHF and Its Alternatives.) However, as mentioned above, the key difference in DeepSeek-R1-Zero is that they skipped the supervised fine-tuning (SFT) stage for instruction tuning. This is why they refer to it as “pure” RL. (Although, RL in the context of LLMs differs significantly from traditional RL, which is a topic for another time.)\\nFor rewards, instead of using a reward model trained on human preferences, they employed two types of rewards: an accuracy reward and a format reward.\\n- The accuracy reward uses the LeetCode compiler to verify coding answers and a deterministic system to evaluate mathematical responses.\\n- The format reward relies on an LLM judge to ensure responses follow the expected format, such as placing reasoning steps inside\\ntags.\\nSurprisingly, this approach was enough for the LLM to develop basic reasoning skills. The researchers observed an “Aha!” moment, where the model began generating reasoning traces as part of its responses despite not being explicitly trained to do so, as shown in the figure below.\\nWhile R1-Zero is not a top-performing reasoning model, it does demonstrate reasoning capabilities by generating intermediate “thinking” steps, as shown in the figure above. This confirms that it is possible to develop a reasoning model using pure RL, and the DeepSeek team was the first to demonstrate (or at least publish) this approach.\\n3) Supervised finetuning and reinforcement learning (SFT + RL)\\nNext, let’s look at the development of DeepSeek-R1, DeepSeek’s flagship reasoning model, which serves as a blueprint for building reasoning models. This model improves upon DeepSeek-R1-Zero by incorporating additional supervised fine-tuning (SFT) and reinforcement learning (RL) to improve its reasoning performance.\\nNote that it is actually common to include an SFT stage before RL, as seen in the standard RLHF pipeline. OpenAI’s o1 was likely developed using a similar approach.\\nAs shown in the diagram above, the DeepSeek team used DeepSeek-R1-Zero to generate what they call “cold-start” SFT data. The term “cold start” refers to the fact that this data was produced by DeepSeek-R1-Zero, which itself had not been trained on any supervised fine-tuning (SFT) data.\\nUsing this cold-start SFT data, DeepSeek then trained the model via instruction fine-tuning, followed by another reinforcement learning (RL) stage. This RL stage retained the same accuracy and format rewards used in DeepSeek-R1-Zero’s RL process. However, they added a consistency reward to prevent language mixing, which occurs when the model switches between multiple languages within a response.\\nThe RL stage was followed by another round of SFT data collection. In this phase, the most recent model checkpoint was used to generate 600K Chain-of-Thought (CoT) SFT examples, while an additional 200K knowledge-based SFT examples were created using the DeepSeek-V3 base model.\\nThese 600K + 200K SFT samples were then used for instruction-finetuning DeepSeek-V3 base before following up with a final round of RL. In this stage, they again used rule-based methods for accuracy rewards for math and coding questions, while human preference labels used for other question types. All in all, this is very similar to regular RLHF except that the SFT data contains (more) CoT examples. And the RL has verifiable rewards in addition to human preference-based rewards.\\nThe final model, DeepSeek-R1 has a noticeable performance boost over DeepSeek-R1-Zero thanks to the additional SFT and RL stages, as shown in the table below.\\n4) Pure supervised finetuning (SFT) and distillation\\nSo far, we have covered three key approaches to building and improving reasoning models:\\n-\\nInference-time scaling, a technique that improves reasoning capabilities without training or otherwise modifying the underlying model.\\n-\\nPure reinforcement learning (RL) as in DeepSeek-R1-Zero, which showed that reasoning can emerge as a learned behavior without supervised fine-tuning.\\n-\\nSupervised fine-tuning (SFT) plus RL, which led to DeepSeek-R1, DeepSeek’s flagship reasoning model.\\nSo, what’s left? Model “distillation.”\\nSurprisingly, DeepSeek also released smaller models trained via a process they call distillation. However, in the context of LLMs, distillation does not necessarily follow the classical knowledge distillation approach used in deep learning. Traditionally, in knowledge distillation (as briefly described in Chapter 6 of my Machine Learning Q and AI book), a smaller student model is trained on both the logits of a larger teacher model and a target dataset.\\nInstead, here distillation refers to instruction fine-tuning smaller LLMs, such as Llama 8B and 70B and Qwen 2.5 models (0.5B to 32B), on an SFT dataset generated by larger LLMs. Specifically, these larger LLMs are DeepSeek-V3 and an intermediate checkpoint of DeepSeek-R1. In fact, the SFT data used for this distillation process is the same dataset that was used to train DeepSeek-R1, as described in the previous section.\\nTo clarify this process, I have highlighted the distillation portion in the diagram below.\\nWhy did they develop these distilled models? In my opinion, there are two key reasons:\\n-\\nSmaller models are more efficient. This means they are cheaper to run, but they also can run on lower-end hardware, which makes these especially interesting for many researchers and tinkerers like me.\\n-\\nA case study in pure SFT. These distilled models serve as an interesting benchmark, showing how far pure supervised fine-tuning (SFT) can take a model without reinforcement learning.\\nThe table below compares the performance of these distilled models against other popular models, as well as DeepSeek-R1-Zero and DeepSeek-R1.\\nAs we can see, the distilled models are noticeably weaker than DeepSeek-R1, but they are surprisingly strong relative to DeepSeek-R1-Zero, despite being orders of magnitude smaller. It’s also interesting to note how well these models perform compared to o1 mini (I suspect o1-mini itself might be a similarly distilled version of o1).\\nBefore wrapping up this section with a conclusion, there’s one more interesting comparison worth mentioning. The DeepSeek team tested whether the emergent reasoning behavior seen in DeepSeek-R1-Zero could also appear in smaller models. To investigate this, they applied the same pure RL approach from DeepSeek-R1-Zero directly to Qwen-32B.\\nThe results of this experiment are summarized in the table below, where QwQ-32B-Preview serves as a reference reasoning model based on Qwen 2.5 32B developed by the Qwen team (I think the training details were never disclosed). This comparison provides some additional insights into whether pure RL alone can induce reasoning capabilities in models much smaller than DeepSeek-R1-Zero.\\nInterestingly, the results suggest that distillation is far more effective than pure RL for smaller models. This aligns with the idea that RL alone may not be sufficient to induce strong reasoning abilities in models of this scale, whereas SFT on high-quality reasoning data can be a more effective strategy when working with small models.\\nFor completeness, it would have been useful to see additional comparisons in the table:\\n-\\nQwen-32B trained with SFT + RL, similar to how DeepSeek-R1 was developed. This would help determine how much improvement can be made, compared to pure RL and pure SFT, when RL is combined with SFT.\\n-\\nDeepSeek-V3 trained with pure SFT, similar to how the distilled models were created. This would allow for a direct comparison to see how effective RL + SFT is over pure SFT.\\nConclusion\\nIn this section, we explored four different strategies for building and improving reasoning models:\\n-\\nInference-time scaling requires no additional training but increases inference costs, making large-scale deployment more expensive as the number or users or query volume grows. Still, it remains a no-brainer for improving the performance of already strong models. I strongly suspect that o1 leverages inference-time scaling, which helps explain why it is more expensive on a per-token basis compared to DeepSeek-R1.\\n-\\nPure RL is interesting for research purposes because it provides insights into reasoning as an emergent behavior. However, in practical model development, RL + SFT is the preferred approach as it leads to stronger reasoning models. I strongly suspect that o1 was trained using RL + SFT as well. More precisely, I believe o1 starts from a weaker, smaller base model than DeepSeek-R1 but compensates with RL + SFT and inference-time scaling.\\n-\\nAs mentioned above, RL + SFT is the key approach for building high-performance reasoning models. DeepSeek-R1 is a nice blueprint showing how this can be done.\\n-\\nDistillation is an attractive approach, especially for creating smaller, more efficient models. However, the limitation is that distillation does not drive innovation or produce the next generation of reasoning models. For instance, distillation always depends on an existing, stronger model to generate the supervised fine-tuning (SFT) data.\\nOne interesting aspect I expect to see next is to combine RL + SFT (approach 3) with inference-time scaling (approach 1). This is likely what OpenAI o1 is doing, except it’s probably based on a weaker base model than DeepSeek-R1, which explains why DeepSeek-R1 performs so well while remaining relatively cheap at inference time.\\nThoughts about DeepSeek R1\\nIn recent weeks, many people have asked for my thoughts on the DeepSeek-R1 models. In short, I think they are an awesome achievement. As a research engineer, I particularly appreciate the detailed technical report, which provides insights into their methodology that I can learn from.\\nOne of the most fascinating takeaways is how reasoning emerged as a behavior from pure RL. And it’s impressive that DeepSeek has open-sourced their models under a permissive open-source MIT license, which has even fewer restrictions than Meta’s Llama models.\\nHow does it compare to o1?\\nIs DeepSeek-R1 better than o1? I’d say it’s roughly in the same ballpark. However, what stands out is that DeepSeek-R1 is more efficient at inference time. This suggests that DeepSeek likely invested more heavily in the training process, while OpenAI may have relied more on inference-time scaling for o1.\\nThat said, it’s difficult to compare o1 and DeepSeek-R1 directly because OpenAI has not disclosed much about o1. For instance, we don’t know:\\n- Is o1 also a Mixture of Experts (MoE)?\\n- How large is o1?\\n- Could o1 just be a slightly refined version of GPT-4o with minimal RL + SFT and only extensive inference-time scaling?\\nWithout knowing these details, a direct comparison remains an apples-to-oranges comparison.\\nThe cost of training DeepSeek-R1\\nAnother point of discussion has been the cost of developing DeepSeek-R1. Some have mentioned a ~$6 million training cost, but they likely conflated DeepSeek-V3 (the base model released in December last year) and DeepSeek-R1.\\nThe $6 million estimate is based on an assumed $2 per GPU hour and the number of GPU hours required for the final training run of DeepSeek-V3, which was originally discussed back in December 2024.\\nHowever, the DeepSeek team has never disclosed the exact GPU hours or development cost for R1, so any cost estimates remain pure speculation.\\nEither way, ultimately, DeepSeek-R1 is a major milestone in open-weight reasoning models, and its efficiency at inference time makes it an interesting alternative to OpenAI’s o1.\\nDeveloping reasoning models on a limited budget\\nDeveloping a DeepSeek-R1-level reasoning model likely requires hundreds of thousands to millions of dollars, even when starting with an open-weight base model like DeepSeek-V3. This can feel discouraging for researchers or engineers working with limited budgets.\\nThe good news: Distillation can go a long way\\nFortunately, model distillation offers a more cost-effective alternative. The DeepSeek team demonstrated this with their R1-distilled models, which achieve surprisingly strong reasoning performance despite being significantly smaller than DeepSeek-R1. However, even this approach isn’t entirely cheap. Their distillation process used 800K SFT samples, which requires substantial compute.\\nInterestingly, just a few days before DeepSeek-R1 was released, I came across an article about Sky-T1, a fascinating project where a small team trained an open-weight 32B model using only 17K SFT samples. The total cost? Just $450, which is less than the registration fee for most AI conferences.\\nThis example highlights that while large-scale training remains expensive, smaller, targeted fine-tuning efforts can still yield impressive results at a fraction of the cost.\\nAccording to their benchmarks, Sky-T1 performs roughly on par with o1, which is impressive given its low training cost.\\nPure RL on a budget: TinyZero\\nWhile Sky-T1 focused on model distillation, I also came across some interesting work in the “pure RL” space. One notable example is TinyZero, a 3B parameter model that replicates the DeepSeek-R1-Zero approach (side note: it costs less than $30 to train).\\nSurprisingly, even at just 3B parameters, TinyZero exhibits some emergent self-verification abilities, which supports the idea that reasoning can emerge through pure RL, even in small models.\\nThe TinyZero repository mentions that a research report is still work in progress, and I’ll definitely be keeping an eye out for further details.\\nThe two projects mentioned above demonstrate that interesting work on reasoning models is possible even with limited budgets. While both approaches replicate methods from DeepSeek-R1, one focusing on pure RL (TinyZero) and the other on pure SFT (Sky-T1), it would be fascinating to explore how these ideas can be extended further.\\nBeyond Traditional SFT: Journey Learning\\nOne particularly interesting approach I came across last year is described in the paper O1 Replication Journey: A Strategic Progress Report – Part 1. Despite its title, the paper does not actually replicate o1. Instead, it introduces an different way to improve the distillation (pure SFT) process.\\nThe key idea in the paper is “journey learning” as an alternative to “shortcut learning.”\\n- Shortcut learning refers to the traditional approach in instruction fine-tuning, where models are trained using only correct solution paths.\\n- Journey learning, on the other hand, also includes incorrect solution paths, allowing the model to learn from mistakes.\\nThis approach is kind of related to the self-verification abilities observed in TinyZero’s pure RL training, but it focuses on improving the model entirely through SFT. By exposing the model to incorrect reasoning paths and their corrections, journey learning may also reinforce self-correction abilities, potentially making reasoning models more reliable this way.\\nThis could be an exciting direction for future work, particularly for low-budget reasoning model development, where RL-based approaches may be computationally impractical.\\nAnyways, a lot of interesting work is currently happening on the reasoning model front, and I’m sure we will see a lot more exciting work in the upcoming months!\\nIf you read the book and have a few minutes to spare, I'd really appreciate a brief review. It helps us authors a lot!\\nYour support means a great deal! Thank you!\""
      ]
     },
     "execution_count": 24,
     "metadata": {},
     "output_type": "execute_result"
    }
   ],
   "source": [
    "from trafilatura import fetch_url, extract\n",
    "\n",
    "\n",
    "url = \"https://sebastianraschka.com/blog/2025/understanding-reasoning-llms.html\"\n",
    "downloaded = fetch_url(url)\n",
    "document = extract(downloaded)\n",
    "document"
   ]
  },
  {
   "cell_type": "markdown",
   "metadata": {},
   "source": [
    "### Document preprocessing"
   ]
  },
  {
   "cell_type": "code",
   "execution_count": 25,
   "metadata": {},
   "outputs": [],
   "source": [
    "def doc_with_lines(document: str) -> tuple[str, dict]:\n",
    "    document_lines = document.split(\"\\n\")\n",
    "    document_with_line_numbers = \"\"\n",
    "    line2text = {}\n",
    "    for i, line in enumerate(document_lines):\n",
    "        document_with_line_numbers += f\"[{i}] {line}\\n\"\n",
    "        line2text[i] = line\n",
    "    return document_with_line_numbers, line2text"
   ]
  },
  {
   "cell_type": "code",
   "execution_count": 26,
   "metadata": {},
   "outputs": [],
   "source": [
    "document_with_line_numbers, line2text = doc_with_lines(document)\n",
    "\n",
    "# print(document_with_line_numbers)\n",
    "# print(line2text)"
   ]
  },
  {
   "cell_type": "markdown",
   "metadata": {},
   "source": [
    "### Define the response structure"
   ]
  },
  {
   "cell_type": "code",
   "execution_count": 27,
   "metadata": {},
   "outputs": [],
   "source": [
    "from pydantic import BaseModel, Field\n",
    "\n",
    "\n",
    "class Section(BaseModel):\n",
    "    title: str = Field(description=\"main topic of this section of the document\")\n",
    "    start_index: int = Field(description=\"line number where the section begins\")\n",
    "    end_index: int = Field(description=\"line number where the section ends\")\n",
    "\n",
    "\n",
    "class StructuredDocument(BaseModel):\n",
    "    \"\"\"obtains meaningful sections, each centered around a single concept/topic\"\"\"\n",
    "\n",
    "    sections: list[Section] = Field(description=\"a list of sections of the document\")"
   ]
  },
  {
   "cell_type": "markdown",
   "metadata": {},
   "source": [
    "### Prepare the extraction function"
   ]
  },
  {
   "cell_type": "code",
   "execution_count": 28,
   "metadata": {},
   "outputs": [],
   "source": [
    "def get_structured_document(document_with_line_numbers) -> StructuredDocument:\n",
    "    system_prompt = \"\"\"You are a world class educator working on organizing your lecture notes.\n",
    "    Read the document below and extract a StructuredDocument object from it where each section of the document is centered around a single concept/topic that can be taught in one lesson.\n",
    "    Each line of the document is marked with its line number in square brackets (e.g. [1], [2], [3], etc). Use the line numbers to indicate section start and end.\"\"\"\n",
    "    user_prompt = f\"Process this document: {document_with_line_numbers}\"\n",
    "\n",
    "    return client.chat.completions.create(\n",
    "        model=\"gpt-4o-mini\",\n",
    "        response_model=StructuredDocument,\n",
    "        temperature=0.0,\n",
    "        max_retries=5,\n",
    "        stream=False,\n",
    "        messages=[\n",
    "            {\n",
    "                \"role\": \"system\",\n",
    "                \"content\": system_prompt,\n",
    "            },\n",
    "            {\n",
    "                \"role\": \"user\",\n",
    "                \"content\": user_prompt,\n",
    "            },\n",
    "        ],\n",
    "    )"
   ]
  },
  {
   "cell_type": "markdown",
   "metadata": {},
   "source": [
    "### Run the extraction"
   ]
  },
  {
   "cell_type": "code",
   "execution_count": 29,
   "metadata": {},
   "outputs": [
    {
     "data": {
      "text/plain": [
       "StructuredDocument(sections=[Section(title='Introduction to Reasoning Models', start_index=0, end_index=12), Section(title='Defining Reasoning Models', start_index=13, end_index=18), Section(title='When to Use Reasoning Models', start_index=19, end_index=22), Section(title='Overview of the DeepSeek Training Pipeline', start_index=23, end_index=27), Section(title='DeepSeek-R1 Model Variants', start_index=28, end_index=30), Section(title='Techniques for Building Reasoning Models', start_index=31, end_index=33), Section(title='Inference-Time Scaling', start_index=34, end_index=42), Section(title='Pure Reinforcement Learning (RL)', start_index=44, end_index=53), Section(title='Supervised Fine-Tuning and Reinforcement Learning (SFT + RL)', start_index=54, end_index=60), Section(title='Model Distillation', start_index=62, end_index=78), Section(title='Conclusion on Reasoning Model Strategies', start_index=89, end_index=99), Section(title='Thoughts on DeepSeek R1', start_index=100, end_index=114), Section(title='Developing Reasoning Models on a Limited Budget', start_index=115, end_index=126), Section(title='Beyond Traditional SFT: Journey Learning', start_index=127, end_index=134), Section(title='Closing Remarks', start_index=135, end_index=136)])"
      ]
     },
     "execution_count": 29,
     "metadata": {},
     "output_type": "execute_result"
    }
   ],
   "source": [
    "structured_doc = get_structured_document(document_with_line_numbers)\n",
    "structured_doc"
   ]
  },
  {
   "cell_type": "code",
   "execution_count": 30,
   "metadata": {},
   "outputs": [
    {
     "data": {
      "text/plain": [
       "[Section(title='Introduction to Reasoning Models', start_index=0, end_index=12),\n",
       " Section(title='Defining Reasoning Models', start_index=13, end_index=18),\n",
       " Section(title='When to Use Reasoning Models', start_index=19, end_index=22),\n",
       " Section(title='Overview of the DeepSeek Training Pipeline', start_index=23, end_index=27),\n",
       " Section(title='DeepSeek-R1 Model Variants', start_index=28, end_index=30),\n",
       " Section(title='Techniques for Building Reasoning Models', start_index=31, end_index=33),\n",
       " Section(title='Inference-Time Scaling', start_index=34, end_index=42),\n",
       " Section(title='Pure Reinforcement Learning (RL)', start_index=44, end_index=53),\n",
       " Section(title='Supervised Fine-Tuning and Reinforcement Learning (SFT + RL)', start_index=54, end_index=60),\n",
       " Section(title='Model Distillation', start_index=62, end_index=78),\n",
       " Section(title='Conclusion on Reasoning Model Strategies', start_index=89, end_index=99),\n",
       " Section(title='Thoughts on DeepSeek R1', start_index=100, end_index=114),\n",
       " Section(title='Developing Reasoning Models on a Limited Budget', start_index=115, end_index=126),\n",
       " Section(title='Beyond Traditional SFT: Journey Learning', start_index=127, end_index=134),\n",
       " Section(title='Closing Remarks', start_index=135, end_index=136)]"
      ]
     },
     "execution_count": 30,
     "metadata": {},
     "output_type": "execute_result"
    }
   ],
   "source": [
    "structured_doc.sections"
   ]
  },
  {
   "cell_type": "markdown",
   "metadata": {},
   "source": [
    "### Postprocess"
   ]
  },
  {
   "cell_type": "code",
   "execution_count": 31,
   "metadata": {},
   "outputs": [],
   "source": [
    "def get_sections_text(structured_doc, line2text):\n",
    "    segments = []\n",
    "    for s in structured_doc.sections:\n",
    "        contents = []\n",
    "        for line_id in range(s.start_index, s.end_index):\n",
    "            contents.append(line2text.get(line_id, ''))\n",
    "        segments.append(\n",
    "            {\n",
    "                \"title\": s.title,\n",
    "                \"content\": \"\\n\".join(contents),\n",
    "                \"start\": s.start_index,\n",
    "                \"end\": s.end_index,\n",
    "            }\n",
    "        )\n",
    "    return segments"
   ]
  },
  {
   "cell_type": "code",
   "execution_count": 32,
   "metadata": {},
   "outputs": [],
   "source": [
    "segments = get_sections_text(structured_doc, line2text)"
   ]
  },
  {
   "cell_type": "code",
   "execution_count": 33,
   "metadata": {},
   "outputs": [
    {
     "data": {
      "text/plain": [
       "{'title': 'Introduction to Reasoning Models',\n",
       " 'content': 'Understanding Reasoning LLMs\\nMethods and Strategies for Building and Refining Reasoning Models\\nIn this article, I will describe the four main approaches to building reasoning models, or how we can enhance LLMs with reasoning capabilities. I hope this provides valuable insights and helps you navigate the rapidly evolving literature and hype surrounding this topic.\\nIn 2024, the LLM field saw increasing specialization. Beyond pre-training and fine-tuning, we witnessed the rise of specialized applications, from RAGs to code assistants. I expect this trend to accelerate in 2025, with an even greater emphasis on domain- and application-specific optimizations (i.e., “specializations”).\\nThe development of reasoning models is one of these specializations. This means we refine LLMs to excel at complex tasks that are best solved with intermediate steps, such as puzzles, advanced math, and coding challenges. However, this specialization does not replace other LLM applications. Because transforming an LLM into a reasoning model also introduces certain drawbacks, which I will discuss later.\\nTo give you a brief glimpse of what’s covered below, in this article, I will:\\n- How do we define “reasoning model”?\\n- When should we use reasoning models?\\n- A brief look at the DeepSeek training pipeline\\n- The 4 main ways to build and improve reasoning models\\n- Thoughts about DeepSeek R1\\n- Developing reasoning models on a limited budget',\n",
       " 'start': 0,\n",
       " 'end': 12}"
      ]
     },
     "execution_count": 33,
     "metadata": {},
     "output_type": "execute_result"
    }
   ],
   "source": [
    "segments[0]"
   ]
  },
  {
   "cell_type": "code",
   "execution_count": null,
   "metadata": {},
   "outputs": [],
   "source": []
  }
 ],
 "metadata": {
  "kernelspec": {
   "display_name": "instructor312",
   "language": "python",
   "name": "python3"
  },
  "language_info": {
   "codemirror_mode": {
    "name": "ipython",
    "version": 3
   },
   "file_extension": ".py",
   "mimetype": "text/x-python",
   "name": "python",
   "nbconvert_exporter": "python",
   "pygments_lexer": "ipython3",
   "version": "3.12.9"
  }
 },
 "nbformat": 4,
 "nbformat_minor": 2
}
