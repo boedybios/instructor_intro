{
 "cells": [
  {
   "cell_type": "markdown",
   "metadata": {},
   "source": [
    "# Introduction to Structure Prompting using Instructor"
   ]
  },
  {
   "cell_type": "markdown",
   "metadata": {},
   "source": [
    "## What is Instructor?"
   ]
  },
  {
   "cell_type": "markdown",
   "metadata": {},
   "source": [
    "Instructor is a Python library that helps you get structured, predictable data from language models like GPT-4 and Claude. <br/>\n",
    "It's like giving the LLM a form to fill out instead of letting it respond however it wants.\n",
    "\n",
    "Without Instructor, getting structured data from LLMs can be challenging:\n",
    "- Unpredictable outputs: LLMs might format responses differently each time\n",
    "- Format errors: Getting JSON or specific data structures can be error-prone\n",
    "- Validation headaches: Checking if the response matches what you need\n",
    "\n",
    "Instructor solves these problems by:\n",
    "- Defining exactly what data you want using Python classes\n",
    "- Making sure the LLM returns data in that structure\n",
    "- Validating the output and automatically fixing issues"
   ]
  },
  {
   "cell_type": "markdown",
   "metadata": {},
   "source": [
    "## Preparation"
   ]
  },
  {
   "cell_type": "markdown",
   "metadata": {},
   "source": [
    "### Install Dependencies"
   ]
  },
  {
   "cell_type": "code",
   "execution_count": 1,
   "metadata": {},
   "outputs": [],
   "source": [
    "# !pip install requirements.txt"
   ]
  },
  {
   "cell_type": "markdown",
   "metadata": {},
   "source": [
    "### Connect to the LLM with Instructor"
   ]
  },
  {
   "cell_type": "code",
   "execution_count": 2,
   "metadata": {},
   "outputs": [],
   "source": [
    "from dotenv import load_dotenv\n",
    "from openai import OpenAI, AzureOpenAI\n",
    "import instructor\n",
    "\n",
    "load_dotenv()\n",
    "\n",
    "# client = instructor.from_openai(OpenAI())\n",
    "client = instructor.from_openai(AzureOpenAI())"
   ]
  },
  {
   "cell_type": "markdown",
   "metadata": {},
   "source": [
    "## Case Study: Simple extraction from a text"
   ]
  },
  {
   "cell_type": "code",
   "execution_count": 3,
   "metadata": {},
   "outputs": [],
   "source": [
    "text = \"\"\"John is a 30 years old software engineer. \n",
    "He was born in Cicago and currently resides in New York.\n",
    "He has houses at 123 Main St, Springfield, IL 62704 and 456 Oak Ave, Chicago, IL 60601.\"\"\""
   ]
  },
  {
   "cell_type": "markdown",
   "metadata": {},
   "source": [
    "### Define the expected response structure"
   ]
  },
  {
   "cell_type": "code",
   "execution_count": 4,
   "metadata": {},
   "outputs": [],
   "source": [
    "from pydantic import BaseModel, Field\n",
    "\n",
    "\n",
    "class Person(BaseModel):\n",
    "    name: str\n",
    "    age: int = Field(description=\"The user's age in years\", gt=0, lt=120)\n",
    "    city: str = Field(description=\"The city where the user lives\")\n",
    "    occupation: str"
   ]
  },
  {
   "cell_type": "markdown",
   "metadata": {},
   "source": [
    "### Prepare the prompt"
   ]
  },
  {
   "cell_type": "code",
   "execution_count": 5,
   "metadata": {},
   "outputs": [],
   "source": [
    "system_prompt = \"You are a personal data extraction engine which capable to extract several personal details from a given text.\"\n",
    "user_prompt = f\"Extract a person from: {text}\""
   ]
  },
  {
   "cell_type": "markdown",
   "metadata": {},
   "source": [
    "### Extract structured data"
   ]
  },
  {
   "cell_type": "code",
   "execution_count": 6,
   "metadata": {},
   "outputs": [],
   "source": [
    "person = client.chat.completions.create(\n",
    "    model=\"gpt-4o-mini\",\n",
    "    response_model=Person,\n",
    "    temperature=0.0,\n",
    "    max_retries=5,\n",
    "    stream=False,\n",
    "    messages=[\n",
    "        {\"role\": \"system\", \"content\": system_prompt},\n",
    "        {\n",
    "            \"role\": \"user\",\n",
    "            \"content\": user_prompt,\n",
    "        },\n",
    "    ],\n",
    ")"
   ]
  },
  {
   "cell_type": "code",
   "execution_count": 7,
   "metadata": {},
   "outputs": [
    {
     "name": "stdout",
     "output_type": "stream",
     "text": [
      "Name: John\n",
      "Age: 30\n",
      "City: New York\n",
      "Occupation: software engineer\n"
     ]
    }
   ],
   "source": [
    "print(f\"Name: {person.name}\")\n",
    "print(f\"Age: {person.age}\")\n",
    "print(f\"City: {person.city}\")\n",
    "print(f\"Occupation: {person.occupation}\")"
   ]
  },
  {
   "cell_type": "markdown",
   "metadata": {},
   "source": [
    "## Case Study: A more complex extraction from a text"
   ]
  },
  {
   "cell_type": "markdown",
   "metadata": {},
   "source": [
    "### Define a more complex response structure"
   ]
  },
  {
   "cell_type": "code",
   "execution_count": 8,
   "metadata": {},
   "outputs": [],
   "source": [
    "from pydantic import BaseModel, Field\n",
    "\n",
    "\n",
    "class Address(BaseModel):\n",
    "    street: str\n",
    "    city: str\n",
    "    state: str\n",
    "    zip_code: str\n",
    "\n",
    "\n",
    "class Person(BaseModel):\n",
    "    name: str\n",
    "    age: int = Field(description=\"The user's age in years\", gt=0, lt=120)\n",
    "    city: str = Field(description=\"The city where the user lives\")\n",
    "    occupation: str\n",
    "    addresses: list[Address] = Field(description=\"The addresses of the user\")"
   ]
  },
  {
   "cell_type": "markdown",
   "metadata": {},
   "source": [
    "### No changes in the prompt"
   ]
  },
  {
   "cell_type": "code",
   "execution_count": 9,
   "metadata": {},
   "outputs": [
    {
     "name": "stdout",
     "output_type": "stream",
     "text": [
      "system prompt: You are a personal data extraction engine which capable to extract several personal details from a given text.\n",
      "======================================================================================================================================================\n",
      "user prompt: Extract a person from: John is a 30 years old software engineer. \n",
      "He was born in Cicago and currently resides in New York.\n",
      "He has houses at 123 Main St, Springfield, IL 62704 and 456 Oak Ave, Chicago, IL 60601.\n"
     ]
    }
   ],
   "source": [
    "print(f\"system prompt: {system_prompt}\")\n",
    "print(\"=\" * 150)\n",
    "print(f\"user prompt: {user_prompt}\")"
   ]
  },
  {
   "cell_type": "markdown",
   "metadata": {},
   "source": [
    "### No changes in the extraction method"
   ]
  },
  {
   "cell_type": "code",
   "execution_count": 10,
   "metadata": {},
   "outputs": [],
   "source": [
    "# Extract structured data\n",
    "person = client.chat.completions.create(\n",
    "    model=\"gpt-4o-mini\",\n",
    "    response_model=Person,\n",
    "    temperature=0.0,\n",
    "    max_retries=5,\n",
    "    stream=False,\n",
    "    messages=[\n",
    "        {\"role\": \"system\", \"content\": system_prompt},\n",
    "        {\n",
    "            \"role\": \"user\",\n",
    "            \"content\": user_prompt,\n",
    "        },\n",
    "    ],\n",
    ")"
   ]
  },
  {
   "cell_type": "markdown",
   "metadata": {},
   "source": [
    "### New structured response"
   ]
  },
  {
   "cell_type": "code",
   "execution_count": 11,
   "metadata": {},
   "outputs": [
    {
     "name": "stdout",
     "output_type": "stream",
     "text": [
      "Name: John\n",
      "Age: 30\n",
      "City: New York\n",
      "Occupation: software engineer\n",
      "Addresses: [Address(street='123 Main St', city='Springfield', state='IL', zip_code='62704'), Address(street='456 Oak Ave', city='Chicago', state='IL', zip_code='60601')]\n"
     ]
    }
   ],
   "source": [
    "print(f\"Name: {person.name}\")\n",
    "print(f\"Age: {person.age}\")\n",
    "print(f\"City: {person.city}\")\n",
    "print(f\"Occupation: {person.occupation}\")\n",
    "print(f\"Addresses: {person.addresses}\")"
   ]
  },
  {
   "cell_type": "code",
   "execution_count": 12,
   "metadata": {},
   "outputs": [
    {
     "name": "stdout",
     "output_type": "stream",
     "text": [
      "Address:\n",
      "    \t Street: 123 Main St\n",
      "    \t City: Springfield\n",
      "    \t State: IL\n",
      "    \t ZIP Code: 62704\n",
      "Address:\n",
      "    \t Street: 456 Oak Ave\n",
      "    \t City: Chicago\n",
      "    \t State: IL\n",
      "    \t ZIP Code: 60601\n"
     ]
    }
   ],
   "source": [
    "for address in person.addresses:\n",
    "    print(\n",
    "        f\"\"\"Address:\n",
    "    \\t Street: {address.street}\n",
    "    \\t City: {address.city}\n",
    "    \\t State: {address.state}\n",
    "    \\t ZIP Code: {address.zip_code}\"\"\"\n",
    "    )"
   ]
  },
  {
   "cell_type": "markdown",
   "metadata": {},
   "source": [
    "## Case Study: URL extraction from a markdown document"
   ]
  },
  {
   "cell_type": "markdown",
   "metadata": {},
   "source": [
    "### Input Document"
   ]
  },
  {
   "cell_type": "code",
   "execution_count": 13,
   "metadata": {},
   "outputs": [],
   "source": [
    "with open(\"document.md\", \"r\") as file:\n",
    "    input_document = file.read()"
   ]
  },
  {
   "cell_type": "markdown",
   "metadata": {},
   "source": [
    "### Define the response structure"
   ]
  },
  {
   "cell_type": "code",
   "execution_count": 14,
   "metadata": {},
   "outputs": [],
   "source": [
    "from pydantic import BaseModel, Field, HttpUrl\n",
    "\n",
    "\n",
    "class ExtractedURL(BaseModel):\n",
    "    url: list[HttpUrl] = Field(description=\"List of extracted URLs from a given document\")"
   ]
  },
  {
   "cell_type": "markdown",
   "metadata": {},
   "source": [
    "### Prepare the prompt"
   ]
  },
  {
   "cell_type": "code",
   "execution_count": 15,
   "metadata": {},
   "outputs": [],
   "source": [
    "system_prompt = \"You are a URL extraction engine.\"\n",
    "user_prompt = f\"Extract list of URLs from this document: {input_document}\""
   ]
  },
  {
   "cell_type": "markdown",
   "metadata": {},
   "source": [
    "### Run the extraction"
   ]
  },
  {
   "cell_type": "code",
   "execution_count": 16,
   "metadata": {},
   "outputs": [],
   "source": [
    "extracted_url = client.chat.completions.create(\n",
    "    model=\"gpt-4o-mini\",\n",
    "    response_model=ExtractedURL,\n",
    "    temperature=0.0,\n",
    "    stream=False,\n",
    "    messages=[\n",
    "        {\"role\": \"system\", \"content\": system_prompt},\n",
    "        {\n",
    "            \"role\": \"user\",\n",
    "            \"content\": user_prompt,\n",
    "        },\n",
    "    ],\n",
    ")"
   ]
  },
  {
   "cell_type": "markdown",
   "metadata": {},
   "source": [
    "### The structured output"
   ]
  },
  {
   "cell_type": "code",
   "execution_count": 17,
   "metadata": {},
   "outputs": [
    {
     "name": "stdout",
     "output_type": "stream",
     "text": [
      "https://ai.google/research\n",
      "https://azure.microsoft.com/\n",
      "https://twitter.com/technews\n",
      "https://linkedin.com/tech\n",
      "https://instagram.com/techtrends\n",
      "https://github.com/\n",
      "https://www.codecademy.com/\n",
      "https://stackoverflow.com/\n",
      "https://techconference2024.com/\n",
      "https://aisummit.global/\n",
      "https://webdevconf.org/\n",
      "https://techportal.com/\n",
      "https://twitter.com/techportal\n"
     ]
    }
   ],
   "source": [
    "for url in extracted_url.url:\n",
    "    print(url)"
   ]
  }
 ],
 "metadata": {
  "kernelspec": {
   "display_name": "instructor312",
   "language": "python",
   "name": "python3"
  },
  "language_info": {
   "codemirror_mode": {
    "name": "ipython",
    "version": 3
   },
   "file_extension": ".py",
   "mimetype": "text/x-python",
   "name": "python",
   "nbconvert_exporter": "python",
   "pygments_lexer": "ipython3",
   "version": "3.12.9"
  }
 },
 "nbformat": 4,
 "nbformat_minor": 2
}
